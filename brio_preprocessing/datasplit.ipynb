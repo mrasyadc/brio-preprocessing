{
 "cells": [
  {
   "cell_type": "code",
   "execution_count": 1,
   "metadata": {
    "collapsed": true,
    "ExecuteTime": {
     "start_time": "2023-05-17T17:11:52.809637Z",
     "end_time": "2023-05-17T17:11:54.267638Z"
    }
   },
   "outputs": [],
   "source": [
    "from sklearn.model_selection import train_test_split\n",
    "import pandas as pd\n",
    "import numpy as np"
   ]
  },
  {
   "cell_type": "code",
   "execution_count": 2,
   "outputs": [
    {
     "name": "stderr",
     "output_type": "stream",
     "text": [
      "C:\\Users\\mrcra\\anaconda3\\envs\\briopreenv\\lib\\site-packages\\openpyxl\\worksheet\\_read_only.py:81: UserWarning: Unknown extension is not supported and will be removed\n",
      "  for idx, row in parser.parse():\n"
     ]
    }
   ],
   "source": [
    "df = pd.read_excel('raw_data.xlsx')"
   ],
   "metadata": {
    "collapsed": false,
    "ExecuteTime": {
     "start_time": "2023-05-17T17:11:54.269638Z",
     "end_time": "2023-05-17T17:11:54.848637Z"
    }
   }
  },
  {
   "cell_type": "code",
   "execution_count": 3,
   "outputs": [],
   "source": [
    "# remove row that have communicability and prepatent period in index column\n",
    "df = df[(df[\"index\"]!=\"Communicability\")]\n",
    "df = df[(df[\"index\"]!=\"Prepatent period\")]"
   ],
   "metadata": {
    "collapsed": false,
    "ExecuteTime": {
     "start_time": "2023-05-17T17:11:54.853637Z",
     "end_time": "2023-05-17T17:11:54.864637Z"
    }
   }
  },
  {
   "cell_type": "code",
   "execution_count": 4,
   "outputs": [],
   "source": [
    "df = df.dropna()"
   ],
   "metadata": {
    "collapsed": false,
    "ExecuteTime": {
     "start_time": "2023-05-17T17:11:54.868637Z",
     "end_time": "2023-05-17T17:11:54.910637Z"
    }
   }
  },
  {
   "cell_type": "code",
   "execution_count": 5,
   "outputs": [],
   "source": [
    "train_set, test_set = train_test_split(df, train_size=0.6, random_state=42)"
   ],
   "metadata": {
    "collapsed": false,
    "ExecuteTime": {
     "start_time": "2023-05-17T17:11:54.886638Z",
     "end_time": "2023-05-17T17:11:54.920636Z"
    }
   }
  },
  {
   "cell_type": "code",
   "execution_count": 6,
   "outputs": [
    {
     "name": "stdout",
     "output_type": "stream",
     "text": [
      "896 598\n"
     ]
    }
   ],
   "source": [
    "print(len(train_set), len(test_set))"
   ],
   "metadata": {
    "collapsed": false,
    "ExecuteTime": {
     "start_time": "2023-05-17T17:11:54.900638Z",
     "end_time": "2023-05-17T17:11:54.920636Z"
    }
   }
  },
  {
   "cell_type": "code",
   "execution_count": 7,
   "outputs": [],
   "source": [
    "test_set, val_set = train_test_split(test_set, test_size=0.5, random_state=42)"
   ],
   "metadata": {
    "collapsed": false,
    "ExecuteTime": {
     "start_time": "2023-05-17T17:11:54.913637Z",
     "end_time": "2023-05-17T17:11:54.935637Z"
    }
   }
  },
  {
   "cell_type": "code",
   "execution_count": 8,
   "outputs": [
    {
     "name": "stdout",
     "output_type": "stream",
     "text": [
      "896 299 299\n"
     ]
    }
   ],
   "source": [
    "print(len(train_set), len(test_set), len(val_set))"
   ],
   "metadata": {
    "collapsed": false,
    "ExecuteTime": {
     "start_time": "2023-05-17T17:11:54.932639Z",
     "end_time": "2023-05-17T17:11:54.989637Z"
    }
   }
  },
  {
   "cell_type": "code",
   "execution_count": 9,
   "outputs": [],
   "source": [
    "train_set.to_excel('train_set.xlsx')\n",
    "test_set.to_excel('test_set.xlsx')\n",
    "val_set.to_excel('val_set.xlsx')"
   ],
   "metadata": {
    "collapsed": false,
    "ExecuteTime": {
     "start_time": "2023-05-17T17:11:54.946637Z",
     "end_time": "2023-05-17T17:11:55.671636Z"
    }
   }
  },
  {
   "cell_type": "code",
   "execution_count": 10,
   "outputs": [],
   "source": [
    "train_origin_texts = train_set['0 (data)']\n",
    "train_first_summary = train_set['1 (summary)']\n",
    "train_second_summary = train_set['2 (second opinion)']"
   ],
   "metadata": {
    "collapsed": false,
    "ExecuteTime": {
     "start_time": "2023-05-17T17:11:55.673637Z",
     "end_time": "2023-05-17T17:11:55.686753Z"
    }
   }
  },
  {
   "cell_type": "code",
   "execution_count": 11,
   "outputs": [],
   "source": [
    "test_origin_texts = test_set['0 (data)']\n",
    "test_first_summary = test_set['1 (summary)']\n",
    "test_second_summary = test_set['2 (second opinion)']"
   ],
   "metadata": {
    "collapsed": false,
    "ExecuteTime": {
     "start_time": "2023-05-17T17:11:55.687756Z",
     "end_time": "2023-05-17T17:11:55.710781Z"
    }
   }
  },
  {
   "cell_type": "code",
   "execution_count": 12,
   "outputs": [],
   "source": [
    "val_origin_texts = val_set['0 (data)']\n",
    "val_first_summary = val_set['1 (summary)']\n",
    "val_second_summary = val_set['2 (second opinion)']"
   ],
   "metadata": {
    "collapsed": false,
    "ExecuteTime": {
     "start_time": "2023-05-17T17:11:55.704767Z",
     "end_time": "2023-05-17T17:11:55.718752Z"
    }
   }
  },
  {
   "cell_type": "code",
   "execution_count": 13,
   "outputs": [],
   "source": [
    "# output the train text\n",
    "train_first_opinion_list = train_first_summary.to_list()\n",
    "train_second_opinion_list = train_second_summary.to_list()\n",
    "train_combined_list = []"
   ],
   "metadata": {
    "collapsed": false,
    "ExecuteTime": {
     "start_time": "2023-05-17T17:11:55.721753Z",
     "end_time": "2023-05-17T17:11:55.741752Z"
    }
   }
  },
  {
   "cell_type": "code",
   "execution_count": 14,
   "outputs": [],
   "source": [
    "# output the test text\n",
    "test_first_opinion_list = test_first_summary.to_list()\n",
    "test_second_opinion_list = test_second_summary.to_list()\n",
    "test_combined_list = []"
   ],
   "metadata": {
    "collapsed": false,
    "ExecuteTime": {
     "start_time": "2023-05-17T17:11:55.738764Z",
     "end_time": "2023-05-17T17:11:55.752798Z"
    }
   }
  },
  {
   "cell_type": "code",
   "execution_count": 15,
   "outputs": [],
   "source": [
    "# output the test text\n",
    "val_first_opinion_list = val_first_summary.to_list()\n",
    "val_second_opinion_list = val_second_summary.to_list()\n",
    "val_combined_list = []"
   ],
   "metadata": {
    "collapsed": false,
    "ExecuteTime": {
     "start_time": "2023-05-17T17:11:55.753762Z",
     "end_time": "2023-05-17T17:11:55.774797Z"
    }
   }
  },
  {
   "cell_type": "code",
   "execution_count": 16,
   "outputs": [],
   "source": [
    "for idx, first_opinion_text in enumerate(train_first_opinion_list):\n",
    "    train_combined_list.append(first_opinion_text)\n",
    "    train_combined_list.append(train_second_opinion_list[idx])"
   ],
   "metadata": {
    "collapsed": false,
    "ExecuteTime": {
     "start_time": "2023-05-17T17:11:55.768757Z",
     "end_time": "2023-05-17T17:11:55.783796Z"
    }
   }
  },
  {
   "cell_type": "code",
   "execution_count": 17,
   "outputs": [],
   "source": [
    "for idx, first_opinion_text in enumerate(test_first_opinion_list):\n",
    "    test_combined_list.append(first_opinion_text)\n",
    "    test_combined_list.append(test_second_opinion_list[idx])"
   ],
   "metadata": {
    "collapsed": false,
    "ExecuteTime": {
     "start_time": "2023-05-17T17:11:55.785753Z",
     "end_time": "2023-05-17T17:11:55.807787Z"
    }
   }
  },
  {
   "cell_type": "code",
   "execution_count": 18,
   "outputs": [],
   "source": [
    "for idx, first_opinion_text in enumerate(val_first_opinion_list):\n",
    "    val_combined_list.append(first_opinion_text)\n",
    "    val_combined_list.append(val_second_opinion_list[idx])"
   ],
   "metadata": {
    "collapsed": false,
    "ExecuteTime": {
     "start_time": "2023-05-17T17:11:55.801763Z",
     "end_time": "2023-05-17T17:11:55.818753Z"
    }
   }
  },
  {
   "cell_type": "code",
   "execution_count": 19,
   "outputs": [],
   "source": [
    "np.savetxt(\"train.source\", train_origin_texts.values, fmt='%s', encoding=\"utf-8\")\n",
    "np.savetxt(\"train.target\", train_first_summary.values, fmt='%s', encoding=\"utf-8\")\n",
    "np.savetxt(\"train.out\", train_combined_list, fmt='%s', encoding=\"utf-8\")"
   ],
   "metadata": {
    "collapsed": false,
    "ExecuteTime": {
     "start_time": "2023-05-17T17:11:55.818753Z",
     "end_time": "2023-05-17T17:11:55.959752Z"
    }
   }
  },
  {
   "cell_type": "code",
   "execution_count": 20,
   "outputs": [],
   "source": [
    "np.savetxt(\"test.source\", test_origin_texts.values, fmt='%s', encoding=\"utf-8\")\n",
    "np.savetxt(\"test.target\", test_first_summary.values, fmt='%s', encoding=\"utf-8\")\n",
    "np.savetxt(\"test.out\", test_combined_list, fmt='%s', encoding=\"utf-8\")"
   ],
   "metadata": {
    "collapsed": false,
    "ExecuteTime": {
     "start_time": "2023-05-17T17:11:55.961762Z",
     "end_time": "2023-05-17T17:11:56.000796Z"
    }
   }
  },
  {
   "cell_type": "code",
   "execution_count": 21,
   "outputs": [],
   "source": [
    "np.savetxt(\"val.source\", val_origin_texts.values, fmt='%s', encoding=\"utf-8\")\n",
    "np.savetxt(\"val.target\", val_first_summary.values, fmt='%s', encoding=\"utf-8\")\n",
    "np.savetxt(\"val.out\", val_combined_list, fmt='%s', encoding=\"utf-8\")"
   ],
   "metadata": {
    "collapsed": false,
    "ExecuteTime": {
     "start_time": "2023-05-17T17:11:55.992752Z",
     "end_time": "2023-05-17T17:11:56.042796Z"
    }
   }
  }
 ],
 "metadata": {
  "kernelspec": {
   "display_name": "Python 3",
   "language": "python",
   "name": "python3"
  },
  "language_info": {
   "codemirror_mode": {
    "name": "ipython",
    "version": 2
   },
   "file_extension": ".py",
   "mimetype": "text/x-python",
   "name": "python",
   "nbconvert_exporter": "python",
   "pygments_lexer": "ipython2",
   "version": "2.7.6"
  }
 },
 "nbformat": 4,
 "nbformat_minor": 0
}
