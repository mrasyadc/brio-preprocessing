{
 "cells": [
  {
   "cell_type": "code",
   "execution_count": 1,
   "metadata": {
    "collapsed": true,
    "ExecuteTime": {
     "start_time": "2023-05-31T12:39:52.697425Z",
     "end_time": "2023-05-31T12:39:53.983437Z"
    }
   },
   "outputs": [],
   "source": [
    "from sklearn.model_selection import train_test_split\n",
    "import pandas as pd\n",
    "import numpy as np"
   ]
  },
  {
   "cell_type": "code",
   "execution_count": 2,
   "outputs": [],
   "source": [
    "df = pd.read_excel('data_confidence_interval_95.xlsx')"
   ],
   "metadata": {
    "collapsed": false,
    "ExecuteTime": {
     "start_time": "2023-05-31T12:39:53.985427Z",
     "end_time": "2023-05-31T12:39:54.503432Z"
    }
   }
  },
  {
   "cell_type": "code",
   "execution_count": 3,
   "outputs": [],
   "source": [
    "# remove row that have communicability and prepatent period in index column\n",
    "df = df[(df[\"index\"]!=\"Communicability\")]\n",
    "df = df[(df[\"index\"]!=\"Prepatent period\")]"
   ],
   "metadata": {
    "collapsed": false,
    "ExecuteTime": {
     "start_time": "2023-05-31T12:39:54.509466Z",
     "end_time": "2023-05-31T12:39:54.519487Z"
    }
   }
  },
  {
   "cell_type": "code",
   "execution_count": 4,
   "outputs": [],
   "source": [
    "# remove row that majority of its contents can't be summarized\n",
    "df = df[(df[\"index\"]!=\"Classification\")]\n",
    "df = df[(df[\"index\"]!=\"Disease\")]\n",
    "df = df[(df[\"index\"]!=\"Incubation period\")]"
   ],
   "metadata": {
    "collapsed": false,
    "ExecuteTime": {
     "start_time": "2023-05-31T12:39:54.521466Z",
     "end_time": "2023-05-31T12:39:54.554496Z"
    }
   }
  },
  {
   "cell_type": "code",
   "execution_count": 5,
   "outputs": [],
   "source": [
    "df = df.dropna()"
   ],
   "metadata": {
    "collapsed": false,
    "ExecuteTime": {
     "start_time": "2023-05-31T12:39:54.541475Z",
     "end_time": "2023-05-31T12:39:54.554496Z"
    }
   }
  },
  {
   "cell_type": "code",
   "execution_count": 6,
   "outputs": [],
   "source": [
    "train_set, test_set = train_test_split(df, train_size=0.8, random_state=42)"
   ],
   "metadata": {
    "collapsed": false,
    "ExecuteTime": {
     "start_time": "2023-05-31T12:39:54.553508Z",
     "end_time": "2023-05-31T12:39:54.569476Z"
    }
   }
  },
  {
   "cell_type": "code",
   "execution_count": 7,
   "outputs": [
    {
     "name": "stdout",
     "output_type": "stream",
     "text": [
      "830 208\n"
     ]
    }
   ],
   "source": [
    "print(len(train_set), len(test_set))"
   ],
   "metadata": {
    "collapsed": false,
    "ExecuteTime": {
     "start_time": "2023-05-31T12:39:54.569476Z",
     "end_time": "2023-05-31T12:39:54.646509Z"
    }
   }
  },
  {
   "cell_type": "code",
   "execution_count": 8,
   "outputs": [],
   "source": [
    "test_set, val_set = train_test_split(test_set, test_size=0.5, random_state=42)"
   ],
   "metadata": {
    "collapsed": false,
    "ExecuteTime": {
     "start_time": "2023-05-31T12:39:54.584477Z",
     "end_time": "2023-05-31T12:39:54.660478Z"
    }
   }
  },
  {
   "cell_type": "code",
   "execution_count": 9,
   "outputs": [
    {
     "name": "stdout",
     "output_type": "stream",
     "text": [
      "830 104 104\n"
     ]
    }
   ],
   "source": [
    "print(len(train_set), len(test_set), len(val_set))"
   ],
   "metadata": {
    "collapsed": false,
    "ExecuteTime": {
     "start_time": "2023-05-31T12:39:54.597475Z",
     "end_time": "2023-05-31T12:39:54.661479Z"
    }
   }
  },
  {
   "cell_type": "code",
   "execution_count": 10,
   "outputs": [],
   "source": [
    "train_set.to_excel('train_set.xlsx')\n",
    "test_set.to_excel('test_set.xlsx')\n",
    "val_set.to_excel('val_set.xlsx')"
   ],
   "metadata": {
    "collapsed": false,
    "ExecuteTime": {
     "start_time": "2023-05-31T12:39:54.614467Z",
     "end_time": "2023-05-31T12:39:56.646078Z"
    }
   }
  },
  {
   "cell_type": "code",
   "execution_count": 11,
   "outputs": [],
   "source": [
    "train_origin_texts = train_set['0 (data)']\n",
    "train_first_summary = train_set['1 (summary)']\n",
    "train_second_summary = train_set['2 (second opinion)']"
   ],
   "metadata": {
    "collapsed": false,
    "ExecuteTime": {
     "start_time": "2023-05-31T12:39:56.648064Z",
     "end_time": "2023-05-31T12:39:56.663064Z"
    }
   }
  },
  {
   "cell_type": "code",
   "execution_count": 12,
   "outputs": [],
   "source": [
    "test_origin_texts = test_set['0 (data)']\n",
    "test_first_summary = test_set['1 (summary)']\n",
    "test_second_summary = test_set['2 (second opinion)']"
   ],
   "metadata": {
    "collapsed": false,
    "ExecuteTime": {
     "start_time": "2023-05-31T12:39:56.665065Z",
     "end_time": "2023-05-31T12:39:56.711064Z"
    }
   }
  },
  {
   "cell_type": "code",
   "execution_count": 13,
   "outputs": [],
   "source": [
    "val_origin_texts = val_set['0 (data)']\n",
    "val_first_summary = val_set['1 (summary)']\n",
    "val_second_summary = val_set['2 (second opinion)']"
   ],
   "metadata": {
    "collapsed": false,
    "ExecuteTime": {
     "start_time": "2023-05-31T12:39:56.681064Z",
     "end_time": "2023-05-31T12:39:56.712064Z"
    }
   }
  },
  {
   "cell_type": "code",
   "execution_count": 14,
   "outputs": [],
   "source": [
    "# output the train text\n",
    "train_first_opinion_list = train_first_summary.to_list()\n",
    "train_second_opinion_list = train_second_summary.to_list()\n",
    "train_combined_list = []"
   ],
   "metadata": {
    "collapsed": false,
    "ExecuteTime": {
     "start_time": "2023-05-31T12:39:56.697066Z",
     "end_time": "2023-05-31T12:39:56.712064Z"
    }
   }
  },
  {
   "cell_type": "code",
   "execution_count": 15,
   "outputs": [],
   "source": [
    "# output the test text\n",
    "test_first_opinion_list = test_first_summary.to_list()\n",
    "test_second_opinion_list = test_second_summary.to_list()\n",
    "test_combined_list = []"
   ],
   "metadata": {
    "collapsed": false,
    "ExecuteTime": {
     "start_time": "2023-05-31T12:39:56.710065Z",
     "end_time": "2023-05-31T12:39:56.722064Z"
    }
   }
  },
  {
   "cell_type": "code",
   "execution_count": 16,
   "outputs": [],
   "source": [
    "# output the test text\n",
    "val_first_opinion_list = val_first_summary.to_list()\n",
    "val_second_opinion_list = val_second_summary.to_list()\n",
    "val_combined_list = []"
   ],
   "metadata": {
    "collapsed": false,
    "ExecuteTime": {
     "start_time": "2023-05-31T12:39:56.725064Z",
     "end_time": "2023-05-31T12:39:56.757064Z"
    }
   }
  },
  {
   "cell_type": "code",
   "execution_count": 17,
   "outputs": [],
   "source": [
    "for idx, first_opinion_text in enumerate(train_first_opinion_list):\n",
    "    train_combined_list.append(first_opinion_text)\n",
    "    train_combined_list.append(train_second_opinion_list[idx])"
   ],
   "metadata": {
    "collapsed": false,
    "ExecuteTime": {
     "start_time": "2023-05-31T12:39:56.741065Z",
     "end_time": "2023-05-31T12:39:56.758064Z"
    }
   }
  },
  {
   "cell_type": "code",
   "execution_count": 18,
   "outputs": [],
   "source": [
    "for idx, first_opinion_text in enumerate(test_first_opinion_list):\n",
    "    test_combined_list.append(first_opinion_text)\n",
    "    test_combined_list.append(test_second_opinion_list[idx])"
   ],
   "metadata": {
    "collapsed": false,
    "ExecuteTime": {
     "start_time": "2023-05-31T12:39:56.757064Z",
     "end_time": "2023-05-31T12:39:56.769064Z"
    }
   }
  },
  {
   "cell_type": "code",
   "execution_count": 19,
   "outputs": [],
   "source": [
    "for idx, first_opinion_text in enumerate(val_first_opinion_list):\n",
    "    val_combined_list.append(first_opinion_text)\n",
    "    val_combined_list.append(val_second_opinion_list[idx])"
   ],
   "metadata": {
    "collapsed": false,
    "ExecuteTime": {
     "start_time": "2023-05-31T12:39:56.771065Z",
     "end_time": "2023-05-31T12:39:56.798063Z"
    }
   }
  },
  {
   "cell_type": "code",
   "execution_count": 20,
   "outputs": [],
   "source": [
    "np.savetxt(\"train.source\", train_origin_texts.values, fmt='%s', encoding=\"utf-8\")\n",
    "np.savetxt(\"train.target\", train_first_summary.values, fmt='%s', encoding=\"utf-8\")\n",
    "np.savetxt(\"train.out\", train_combined_list, fmt='%s', encoding=\"utf-8\")"
   ],
   "metadata": {
    "collapsed": false,
    "ExecuteTime": {
     "start_time": "2023-05-31T12:39:56.787065Z",
     "end_time": "2023-05-31T12:39:56.844063Z"
    }
   }
  },
  {
   "cell_type": "code",
   "execution_count": 21,
   "outputs": [],
   "source": [
    "np.savetxt(\"test.source\", test_origin_texts.values, fmt='%s', encoding=\"utf-8\")\n",
    "np.savetxt(\"test.target\", test_first_summary.values, fmt='%s', encoding=\"utf-8\")\n",
    "np.savetxt(\"test.out\", test_combined_list, fmt='%s', encoding=\"utf-8\")"
   ],
   "metadata": {
    "collapsed": false,
    "ExecuteTime": {
     "start_time": "2023-05-31T12:39:56.836067Z",
     "end_time": "2023-05-31T12:39:56.854063Z"
    }
   }
  },
  {
   "cell_type": "code",
   "execution_count": 22,
   "outputs": [],
   "source": [
    "np.savetxt(\"val.source\", val_origin_texts.values, fmt='%s', encoding=\"utf-8\")\n",
    "np.savetxt(\"val.target\", val_first_summary.values, fmt='%s', encoding=\"utf-8\")\n",
    "np.savetxt(\"val.out\", val_combined_list, fmt='%s', encoding=\"utf-8\")"
   ],
   "metadata": {
    "collapsed": false,
    "ExecuteTime": {
     "start_time": "2023-05-31T12:39:56.851064Z",
     "end_time": "2023-05-31T12:39:56.878063Z"
    }
   }
  }
 ],
 "metadata": {
  "kernelspec": {
   "display_name": "Python 3",
   "language": "python",
   "name": "python3"
  },
  "language_info": {
   "codemirror_mode": {
    "name": "ipython",
    "version": 2
   },
   "file_extension": ".py",
   "mimetype": "text/x-python",
   "name": "python",
   "nbconvert_exporter": "python",
   "pygments_lexer": "ipython2",
   "version": "2.7.6"
  }
 },
 "nbformat": 4,
 "nbformat_minor": 0
}
