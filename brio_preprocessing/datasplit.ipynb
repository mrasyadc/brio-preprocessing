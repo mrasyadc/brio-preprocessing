{
 "cells": [
  {
   "cell_type": "code",
   "execution_count": 11,
   "metadata": {
    "collapsed": true,
    "ExecuteTime": {
     "start_time": "2023-05-22T15:12:14.984856Z",
     "end_time": "2023-05-22T15:12:15.017821Z"
    }
   },
   "outputs": [],
   "source": [
    "from sklearn.model_selection import train_test_split\n",
    "import pandas as pd\n",
    "import numpy as np"
   ]
  },
  {
   "cell_type": "code",
   "execution_count": 12,
   "outputs": [],
   "source": [
    "df = pd.read_excel('remove_outlier_data.xlsx')"
   ],
   "metadata": {
    "collapsed": false,
    "ExecuteTime": {
     "start_time": "2023-05-22T15:12:14.994813Z",
     "end_time": "2023-05-22T15:12:15.273944Z"
    }
   }
  },
  {
   "cell_type": "code",
   "execution_count": 13,
   "outputs": [],
   "source": [
    "# remove row that have communicability and prepatent period in index column\n",
    "df = df[(df[\"index\"]!=\"Communicability\")]\n",
    "df = df[(df[\"index\"]!=\"Prepatent period\")]"
   ],
   "metadata": {
    "collapsed": false,
    "ExecuteTime": {
     "start_time": "2023-05-22T15:12:15.276353Z",
     "end_time": "2023-05-22T15:12:15.290826Z"
    }
   }
  },
  {
   "cell_type": "code",
   "execution_count": 14,
   "outputs": [],
   "source": [
    "# remove row that majority of its contents can't be summarized\n",
    "df = df[(df[\"index\"]!=\"Classification\")]\n",
    "df = df[(df[\"index\"]!=\"Disease\")]\n",
    "df = df[(df[\"index\"]!=\"Incubation period\")]"
   ],
   "metadata": {
    "collapsed": false,
    "ExecuteTime": {
     "start_time": "2023-05-22T15:12:15.294824Z",
     "end_time": "2023-05-22T15:12:15.320825Z"
    }
   }
  },
  {
   "cell_type": "code",
   "execution_count": 15,
   "outputs": [],
   "source": [
    "df = df.dropna()"
   ],
   "metadata": {
    "collapsed": false,
    "ExecuteTime": {
     "start_time": "2023-05-22T15:12:15.309825Z",
     "end_time": "2023-05-22T15:12:15.321810Z"
    }
   }
  },
  {
   "cell_type": "code",
   "execution_count": 16,
   "outputs": [],
   "source": [
    "train_set, test_set = train_test_split(df, train_size=0.6, random_state=42)"
   ],
   "metadata": {
    "collapsed": false,
    "ExecuteTime": {
     "start_time": "2023-05-22T15:12:15.324810Z",
     "end_time": "2023-05-22T15:12:15.335055Z"
    }
   }
  },
  {
   "cell_type": "code",
   "execution_count": 17,
   "outputs": [
    {
     "name": "stdout",
     "output_type": "stream",
     "text": [
      "617 412\n"
     ]
    }
   ],
   "source": [
    "print(len(train_set), len(test_set))"
   ],
   "metadata": {
    "collapsed": false,
    "ExecuteTime": {
     "start_time": "2023-05-22T15:12:15.338047Z",
     "end_time": "2023-05-22T15:12:15.396201Z"
    }
   }
  },
  {
   "cell_type": "code",
   "execution_count": 18,
   "outputs": [],
   "source": [
    "test_set, val_set = train_test_split(test_set, test_size=0.5, random_state=42)"
   ],
   "metadata": {
    "collapsed": false,
    "ExecuteTime": {
     "start_time": "2023-05-22T15:12:15.356046Z",
     "end_time": "2023-05-22T15:12:15.407156Z"
    }
   }
  },
  {
   "cell_type": "code",
   "execution_count": 19,
   "outputs": [
    {
     "name": "stdout",
     "output_type": "stream",
     "text": [
      "617 206 206\n"
     ]
    }
   ],
   "source": [
    "print(len(train_set), len(test_set), len(val_set))"
   ],
   "metadata": {
    "collapsed": false,
    "ExecuteTime": {
     "start_time": "2023-05-22T15:12:15.368165Z",
     "end_time": "2023-05-22T15:12:15.407156Z"
    }
   }
  },
  {
   "cell_type": "code",
   "execution_count": 20,
   "outputs": [],
   "source": [
    "train_set.to_excel('train_set.xlsx')\n",
    "test_set.to_excel('test_set.xlsx')\n",
    "val_set.to_excel('val_set.xlsx')"
   ],
   "metadata": {
    "collapsed": false,
    "ExecuteTime": {
     "start_time": "2023-05-22T15:12:15.388159Z",
     "end_time": "2023-05-22T15:12:15.986167Z"
    }
   }
  },
  {
   "cell_type": "code",
   "execution_count": 21,
   "outputs": [],
   "source": [
    "train_origin_texts = train_set['0 (data)']\n",
    "train_first_summary = train_set['1 (summary)']\n",
    "train_second_summary = train_set['2 (second opinion)']"
   ],
   "metadata": {
    "collapsed": false,
    "ExecuteTime": {
     "start_time": "2023-05-22T15:12:15.990160Z",
     "end_time": "2023-05-22T15:12:16.001552Z"
    }
   }
  },
  {
   "cell_type": "code",
   "execution_count": 22,
   "outputs": [],
   "source": [
    "test_origin_texts = test_set['0 (data)']\n",
    "test_first_summary = test_set['1 (summary)']\n",
    "test_second_summary = test_set['2 (second opinion)']"
   ],
   "metadata": {
    "collapsed": false,
    "ExecuteTime": {
     "start_time": "2023-05-22T15:12:16.003556Z",
     "end_time": "2023-05-22T15:12:16.057063Z"
    }
   }
  },
  {
   "cell_type": "code",
   "execution_count": 23,
   "outputs": [],
   "source": [
    "val_origin_texts = val_set['0 (data)']\n",
    "val_first_summary = val_set['1 (summary)']\n",
    "val_second_summary = val_set['2 (second opinion)']"
   ],
   "metadata": {
    "collapsed": false,
    "ExecuteTime": {
     "start_time": "2023-05-22T15:12:16.021630Z",
     "end_time": "2023-05-22T15:12:16.057063Z"
    }
   }
  },
  {
   "cell_type": "code",
   "execution_count": 24,
   "outputs": [],
   "source": [
    "# output the train text\n",
    "train_first_opinion_list = train_first_summary.to_list()\n",
    "train_second_opinion_list = train_second_summary.to_list()\n",
    "train_combined_list = []"
   ],
   "metadata": {
    "collapsed": false,
    "ExecuteTime": {
     "start_time": "2023-05-22T15:12:16.036077Z",
     "end_time": "2023-05-22T15:12:16.058074Z"
    }
   }
  },
  {
   "cell_type": "code",
   "execution_count": 25,
   "outputs": [],
   "source": [
    "# output the test text\n",
    "test_first_opinion_list = test_first_summary.to_list()\n",
    "test_second_opinion_list = test_second_summary.to_list()\n",
    "test_combined_list = []"
   ],
   "metadata": {
    "collapsed": false,
    "ExecuteTime": {
     "start_time": "2023-05-22T15:12:16.055072Z",
     "end_time": "2023-05-22T15:12:16.068385Z"
    }
   }
  },
  {
   "cell_type": "code",
   "execution_count": 26,
   "outputs": [],
   "source": [
    "# output the test text\n",
    "val_first_opinion_list = val_first_summary.to_list()\n",
    "val_second_opinion_list = val_second_summary.to_list()\n",
    "val_combined_list = []"
   ],
   "metadata": {
    "collapsed": false,
    "ExecuteTime": {
     "start_time": "2023-05-22T15:12:16.068385Z",
     "end_time": "2023-05-22T15:12:16.100383Z"
    }
   }
  },
  {
   "cell_type": "code",
   "execution_count": 27,
   "outputs": [],
   "source": [
    "for idx, first_opinion_text in enumerate(train_first_opinion_list):\n",
    "    train_combined_list.append(first_opinion_text)\n",
    "    train_combined_list.append(train_second_opinion_list[idx])"
   ],
   "metadata": {
    "collapsed": false,
    "ExecuteTime": {
     "start_time": "2023-05-22T15:12:16.085381Z",
     "end_time": "2023-05-22T15:12:16.101383Z"
    }
   }
  },
  {
   "cell_type": "code",
   "execution_count": 28,
   "outputs": [],
   "source": [
    "for idx, first_opinion_text in enumerate(test_first_opinion_list):\n",
    "    test_combined_list.append(first_opinion_text)\n",
    "    test_combined_list.append(test_second_opinion_list[idx])"
   ],
   "metadata": {
    "collapsed": false,
    "ExecuteTime": {
     "start_time": "2023-05-22T15:12:16.101383Z",
     "end_time": "2023-05-22T15:12:16.113392Z"
    }
   }
  },
  {
   "cell_type": "code",
   "execution_count": 29,
   "outputs": [],
   "source": [
    "for idx, first_opinion_text in enumerate(val_first_opinion_list):\n",
    "    val_combined_list.append(first_opinion_text)\n",
    "    val_combined_list.append(val_second_opinion_list[idx])"
   ],
   "metadata": {
    "collapsed": false,
    "ExecuteTime": {
     "start_time": "2023-05-22T15:12:16.118379Z",
     "end_time": "2023-05-22T15:12:16.142392Z"
    }
   }
  },
  {
   "cell_type": "code",
   "execution_count": 30,
   "outputs": [],
   "source": [
    "np.savetxt(\"train.source\", train_origin_texts.values, fmt='%s', encoding=\"utf-8\")\n",
    "np.savetxt(\"train.target\", train_first_summary.values, fmt='%s', encoding=\"utf-8\")\n",
    "np.savetxt(\"train.out\", train_combined_list, fmt='%s', encoding=\"utf-8\")"
   ],
   "metadata": {
    "collapsed": false,
    "ExecuteTime": {
     "start_time": "2023-05-22T15:12:16.134404Z",
     "end_time": "2023-05-22T15:12:16.192727Z"
    }
   }
  },
  {
   "cell_type": "code",
   "execution_count": 31,
   "outputs": [],
   "source": [
    "np.savetxt(\"test.source\", test_origin_texts.values, fmt='%s', encoding=\"utf-8\")\n",
    "np.savetxt(\"test.target\", test_first_summary.values, fmt='%s', encoding=\"utf-8\")\n",
    "np.savetxt(\"test.out\", test_combined_list, fmt='%s', encoding=\"utf-8\")"
   ],
   "metadata": {
    "collapsed": false,
    "ExecuteTime": {
     "start_time": "2023-05-22T15:12:16.196741Z",
     "end_time": "2023-05-22T15:12:16.256728Z"
    }
   }
  },
  {
   "cell_type": "code",
   "execution_count": 32,
   "outputs": [],
   "source": [
    "np.savetxt(\"val.source\", val_origin_texts.values, fmt='%s', encoding=\"utf-8\")\n",
    "np.savetxt(\"val.target\", val_first_summary.values, fmt='%s', encoding=\"utf-8\")\n",
    "np.savetxt(\"val.out\", val_combined_list, fmt='%s', encoding=\"utf-8\")"
   ],
   "metadata": {
    "collapsed": false,
    "ExecuteTime": {
     "start_time": "2023-05-22T15:12:16.259729Z",
     "end_time": "2023-05-22T15:12:16.270741Z"
    }
   }
  }
 ],
 "metadata": {
  "kernelspec": {
   "display_name": "Python 3",
   "language": "python",
   "name": "python3"
  },
  "language_info": {
   "codemirror_mode": {
    "name": "ipython",
    "version": 2
   },
   "file_extension": ".py",
   "mimetype": "text/x-python",
   "name": "python",
   "nbconvert_exporter": "python",
   "pygments_lexer": "ipython2",
   "version": "2.7.6"
  }
 },
 "nbformat": 4,
 "nbformat_minor": 0
}
