{
 "cells": [
  {
   "cell_type": "code",
   "execution_count": 1,
   "metadata": {
    "collapsed": true,
    "ExecuteTime": {
     "start_time": "2023-06-01T07:43:25.639937Z",
     "end_time": "2023-06-01T07:43:27.696924Z"
    }
   },
   "outputs": [],
   "source": [
    "from sklearn.model_selection import train_test_split\n",
    "import pandas as pd\n",
    "import numpy as np"
   ]
  },
  {
   "cell_type": "code",
   "execution_count": 2,
   "outputs": [],
   "source": [
    "df = pd.read_excel('data_original.xlsx')"
   ],
   "metadata": {
    "collapsed": false,
    "ExecuteTime": {
     "start_time": "2023-06-01T07:43:27.699924Z",
     "end_time": "2023-06-01T07:43:28.482924Z"
    }
   }
  },
  {
   "cell_type": "code",
   "execution_count": 3,
   "outputs": [],
   "source": [
    "# remove row that have communicability and prepatent period in index column\n",
    "df = df[(df[\"index\"]!=\"Communicability\")]\n",
    "df = df[(df[\"index\"]!=\"Prepatent period\")]"
   ],
   "metadata": {
    "collapsed": false,
    "ExecuteTime": {
     "start_time": "2023-06-01T07:43:28.476932Z",
     "end_time": "2023-06-01T07:43:28.494932Z"
    }
   }
  },
  {
   "cell_type": "code",
   "execution_count": 4,
   "outputs": [],
   "source": [
    "# remove row that majority of its contents can't be summarized\n",
    "df = df[(df[\"index\"]!=\"Classification\")]\n",
    "df = df[(df[\"index\"]!=\"Disease\")]\n",
    "df = df[(df[\"index\"]!=\"Incubation period\")]"
   ],
   "metadata": {
    "collapsed": false,
    "ExecuteTime": {
     "start_time": "2023-06-01T07:43:28.493925Z",
     "end_time": "2023-06-01T07:43:28.629924Z"
    }
   }
  },
  {
   "cell_type": "code",
   "execution_count": 5,
   "outputs": [],
   "source": [
    "df = df.dropna()"
   ],
   "metadata": {
    "collapsed": false,
    "ExecuteTime": {
     "start_time": "2023-06-01T07:43:28.509934Z",
     "end_time": "2023-06-01T07:43:28.629924Z"
    }
   }
  },
  {
   "cell_type": "code",
   "execution_count": 6,
   "outputs": [],
   "source": [
    "train_set, test_set = train_test_split(df, train_size=0.7, random_state=42)"
   ],
   "metadata": {
    "collapsed": false,
    "ExecuteTime": {
     "start_time": "2023-06-01T07:43:28.525925Z",
     "end_time": "2023-06-01T07:43:28.630923Z"
    }
   }
  },
  {
   "cell_type": "code",
   "execution_count": 7,
   "outputs": [
    {
     "name": "stdout",
     "output_type": "stream",
     "text": [
      "809 348\n"
     ]
    }
   ],
   "source": [
    "print(len(train_set), len(test_set))"
   ],
   "metadata": {
    "collapsed": false,
    "ExecuteTime": {
     "start_time": "2023-06-01T07:43:28.542925Z",
     "end_time": "2023-06-01T07:43:28.632925Z"
    }
   }
  },
  {
   "cell_type": "code",
   "execution_count": 8,
   "outputs": [],
   "source": [
    "test_set, val_set = train_test_split(test_set, train_size=0.5, random_state=42)"
   ],
   "metadata": {
    "collapsed": false,
    "ExecuteTime": {
     "start_time": "2023-06-01T07:43:28.556924Z",
     "end_time": "2023-06-01T07:43:28.632925Z"
    }
   }
  },
  {
   "cell_type": "code",
   "execution_count": 9,
   "outputs": [
    {
     "name": "stdout",
     "output_type": "stream",
     "text": [
      "809 174 174\n"
     ]
    }
   ],
   "source": [
    "print(len(train_set), len(test_set), len(val_set))"
   ],
   "metadata": {
    "collapsed": false,
    "ExecuteTime": {
     "start_time": "2023-06-01T07:43:28.572934Z",
     "end_time": "2023-06-01T07:43:28.633924Z"
    }
   }
  },
  {
   "cell_type": "code",
   "execution_count": 10,
   "outputs": [],
   "source": [
    "train_set.to_excel('train_set.xlsx')\n",
    "test_set.to_excel('test_set.xlsx')\n",
    "val_set.to_excel('val_set.xlsx')"
   ],
   "metadata": {
    "collapsed": false,
    "ExecuteTime": {
     "start_time": "2023-06-01T07:43:28.588925Z",
     "end_time": "2023-06-01T07:43:29.238923Z"
    }
   }
  },
  {
   "cell_type": "code",
   "execution_count": 11,
   "outputs": [],
   "source": [
    "train_origin_texts = train_set['0 (data)']\n",
    "train_first_summary = train_set['1 (summary)']\n",
    "train_second_summary = train_set['2 (second opinion)']"
   ],
   "metadata": {
    "collapsed": false,
    "ExecuteTime": {
     "start_time": "2023-06-01T07:43:29.240925Z",
     "end_time": "2023-06-01T07:43:29.253925Z"
    }
   }
  },
  {
   "cell_type": "code",
   "execution_count": 12,
   "outputs": [],
   "source": [
    "test_origin_texts = test_set['0 (data)']\n",
    "test_first_summary = test_set['1 (summary)']\n",
    "test_second_summary = test_set['2 (second opinion)']"
   ],
   "metadata": {
    "collapsed": false,
    "ExecuteTime": {
     "start_time": "2023-06-01T07:43:29.257924Z",
     "end_time": "2023-06-01T07:43:29.283924Z"
    }
   }
  },
  {
   "cell_type": "code",
   "execution_count": 13,
   "outputs": [],
   "source": [
    "val_origin_texts = val_set['0 (data)']\n",
    "val_first_summary = val_set['1 (summary)']\n",
    "val_second_summary = val_set['2 (second opinion)']"
   ],
   "metadata": {
    "collapsed": false,
    "ExecuteTime": {
     "start_time": "2023-06-01T07:43:29.271925Z",
     "end_time": "2023-06-01T07:43:29.294938Z"
    }
   }
  },
  {
   "cell_type": "code",
   "execution_count": 14,
   "outputs": [],
   "source": [
    "# output the train text\n",
    "train_first_opinion_list = train_first_summary.to_list()\n",
    "train_second_opinion_list = train_second_summary.to_list()\n",
    "train_combined_list = []"
   ],
   "metadata": {
    "collapsed": false,
    "ExecuteTime": {
     "start_time": "2023-06-01T07:43:29.289925Z",
     "end_time": "2023-06-01T07:43:29.301937Z"
    }
   }
  },
  {
   "cell_type": "code",
   "execution_count": 15,
   "outputs": [],
   "source": [
    "# output the test text\n",
    "test_first_opinion_list = test_first_summary.to_list()\n",
    "test_second_opinion_list = test_second_summary.to_list()\n",
    "test_combined_list = []"
   ],
   "metadata": {
    "collapsed": false,
    "ExecuteTime": {
     "start_time": "2023-06-01T07:43:29.305929Z",
     "end_time": "2023-06-01T07:43:29.333925Z"
    }
   }
  },
  {
   "cell_type": "code",
   "execution_count": 16,
   "outputs": [],
   "source": [
    "# output the test text\n",
    "val_first_opinion_list = val_first_summary.to_list()\n",
    "val_second_opinion_list = val_second_summary.to_list()\n",
    "val_combined_list = []"
   ],
   "metadata": {
    "collapsed": false,
    "ExecuteTime": {
     "start_time": "2023-06-01T07:43:29.319925Z",
     "end_time": "2023-06-01T07:43:29.335925Z"
    }
   }
  },
  {
   "cell_type": "code",
   "execution_count": 17,
   "outputs": [],
   "source": [
    "for idx, first_opinion_text in enumerate(train_first_opinion_list):\n",
    "    train_combined_list.append(first_opinion_text)\n",
    "    train_combined_list.append(train_second_opinion_list[idx])"
   ],
   "metadata": {
    "collapsed": false,
    "ExecuteTime": {
     "start_time": "2023-06-01T07:43:29.334925Z",
     "end_time": "2023-06-01T07:43:29.349925Z"
    }
   }
  },
  {
   "cell_type": "code",
   "execution_count": 18,
   "outputs": [],
   "source": [
    "for idx, first_opinion_text in enumerate(test_first_opinion_list):\n",
    "    test_combined_list.append(first_opinion_text)\n",
    "    test_combined_list.append(test_second_opinion_list[idx])"
   ],
   "metadata": {
    "collapsed": false,
    "ExecuteTime": {
     "start_time": "2023-06-01T07:43:29.348926Z",
     "end_time": "2023-06-01T07:43:29.374924Z"
    }
   }
  },
  {
   "cell_type": "code",
   "execution_count": 19,
   "outputs": [],
   "source": [
    "for idx, first_opinion_text in enumerate(val_first_opinion_list):\n",
    "    val_combined_list.append(first_opinion_text)\n",
    "    val_combined_list.append(val_second_opinion_list[idx])"
   ],
   "metadata": {
    "collapsed": false,
    "ExecuteTime": {
     "start_time": "2023-06-01T07:43:29.368925Z",
     "end_time": "2023-06-01T07:43:29.388925Z"
    }
   }
  },
  {
   "cell_type": "code",
   "execution_count": 20,
   "outputs": [],
   "source": [
    "np.savetxt(\"train.source\", train_origin_texts.values, fmt='%s', encoding=\"utf-8\")\n",
    "np.savetxt(\"train.target\", train_first_summary.values, fmt='%s', encoding=\"utf-8\")\n",
    "np.savetxt(\"train.out\", train_combined_list, fmt='%s', encoding=\"utf-8\")"
   ],
   "metadata": {
    "collapsed": false,
    "ExecuteTime": {
     "start_time": "2023-06-01T07:43:29.385925Z",
     "end_time": "2023-06-01T07:43:29.474932Z"
    }
   }
  },
  {
   "cell_type": "code",
   "execution_count": 21,
   "outputs": [],
   "source": [
    "np.savetxt(\"test.source\", test_origin_texts.values, fmt='%s', encoding=\"utf-8\")\n",
    "np.savetxt(\"test.target\", test_first_summary.values, fmt='%s', encoding=\"utf-8\")\n",
    "np.savetxt(\"test.out\", test_combined_list, fmt='%s', encoding=\"utf-8\")"
   ],
   "metadata": {
    "collapsed": false,
    "ExecuteTime": {
     "start_time": "2023-06-01T07:43:29.478925Z",
     "end_time": "2023-06-01T07:43:29.553924Z"
    }
   }
  },
  {
   "cell_type": "code",
   "execution_count": 22,
   "outputs": [],
   "source": [
    "np.savetxt(\"val.source\", val_origin_texts.values, fmt='%s', encoding=\"utf-8\")\n",
    "np.savetxt(\"val.target\", val_first_summary.values, fmt='%s', encoding=\"utf-8\")\n",
    "np.savetxt(\"val.out\", val_combined_list, fmt='%s', encoding=\"utf-8\")"
   ],
   "metadata": {
    "collapsed": false,
    "ExecuteTime": {
     "start_time": "2023-06-01T07:43:29.558925Z",
     "end_time": "2023-06-01T07:43:29.593923Z"
    }
   }
  }
 ],
 "metadata": {
  "kernelspec": {
   "display_name": "Python 3",
   "language": "python",
   "name": "python3"
  },
  "language_info": {
   "codemirror_mode": {
    "name": "ipython",
    "version": 2
   },
   "file_extension": ".py",
   "mimetype": "text/x-python",
   "name": "python",
   "nbconvert_exporter": "python",
   "pygments_lexer": "ipython2",
   "version": "2.7.6"
  }
 },
 "nbformat": 4,
 "nbformat_minor": 0
}
