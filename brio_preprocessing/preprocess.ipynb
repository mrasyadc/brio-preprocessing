{
 "cells": [
  {
   "cell_type": "code",
   "execution_count": 1,
   "metadata": {
    "collapsed": true,
    "ExecuteTime": {
     "start_time": "2023-05-02T10:41:48.394347Z",
     "end_time": "2023-05-02T10:41:48.853155Z"
    }
   },
   "outputs": [],
   "source": [
    "import pandas as pd\n",
    "import numpy as np"
   ]
  },
  {
   "cell_type": "code",
   "execution_count": 2,
   "outputs": [
    {
     "name": "stderr",
     "output_type": "stream",
     "text": [
      "C:\\Users\\mrcra\\anaconda3\\envs\\briopreenv\\lib\\site-packages\\openpyxl\\worksheet\\_read_only.py:81: UserWarning: Unknown extension is not supported and will be removed\n",
      "  for idx, row in parser.parse():\n"
     ]
    }
   ],
   "source": [
    "df = pd.read_excel('raw_data.xlsx')"
   ],
   "metadata": {
    "collapsed": false,
    "ExecuteTime": {
     "start_time": "2023-05-02T10:41:48.855189Z",
     "end_time": "2023-05-02T10:41:49.340389Z"
    }
   }
  },
  {
   "cell_type": "code",
   "execution_count": 3,
   "outputs": [
    {
     "data": {
      "text/plain": "      Unnamed: 0     disease                   index   \n0              0     Anthrax                 Disease  \\\n1              1     Anthrax          Classification   \n2              2     Anthrax  Syndromes and synonyms   \n3              3     Anthrax                   Agent   \n4              4     Anthrax               Reservoir   \n...          ...         ...                     ...   \n1803        1803  Zika Fever                 Therapy   \n1804        1804  Zika Fever              Prevention   \n1805        1805  Zika Fever            Epidemiology   \n1806        1806  Zika Fever         Communicability   \n1807        1807  Zika Fever        Prepatent period   \n\n                                               0 (data)   \n0                                               Anthrax  \\\n1                                 ICD-9 022; ICD-10 A22   \n2     Charbon, malignant pustule, malignant edema, w...   \n3     Spores of Bacillus anthracis, a Gram-positive,...   \n4     Soil, animal hair, wool or hides, particularly...   \n...                                                 ...   \n1803                                        Supportive.   \n1804                         Anti-mosquito precautions.   \n1805  Zika virus is present in the tropical regions ...   \n1806                                                NaN   \n1807                                                NaN   \n\n                                            1 (summary)   \n0                                               Anthrax  \\\n1                                 ICD-9 022; ICD-10 A22   \n2     Charbon, malignant pustule, malignant edema, w...   \n3     Spores of Bacillus anthracis, a Gram-positive,...   \n4     Soil, animal hair, wool or hides, particularly...   \n...                                                 ...   \n1803                                        Supportive.   \n1804                         Anti-mosquito precautions.   \n1805  Zika virus is present in the tropical regions ...   \n1806                                                NaN   \n1807                                                NaN   \n\n                                     2 (second opinion) Dirangkum atau tidak?   \n0                                               Anthrax                 Clear  \\\n1                                 ICD-9 022; ICD-10 A22                 Clear   \n2     Charbon, malignant pustule, malignant edema, w...                 Clear   \n3     Spores of Bacillus anthracis, a Gram-positive,...        Perlu validasi   \n4     Soil, animal hair, wool or hides, particularly...        Perlu validasi   \n...                                                 ...                   ...   \n1803                                        Supportive.                 Clear   \n1804                         Anti-mosquito precautions.                 Clear   \n1805  Zika virus is present in the tropical regions ...        Perlu validasi   \n1806                                                NaN                 Clear   \n1807                                                NaN                 Clear   \n\n      Validated by doctor  \n0                   False  \n1                   False  \n2                   False  \n3                   False  \n4                   False  \n...                   ...  \n1803                False  \n1804                False  \n1805                False  \n1806                False  \n1807                False  \n\n[1808 rows x 8 columns]",
      "text/html": "<div>\n<style scoped>\n    .dataframe tbody tr th:only-of-type {\n        vertical-align: middle;\n    }\n\n    .dataframe tbody tr th {\n        vertical-align: top;\n    }\n\n    .dataframe thead th {\n        text-align: right;\n    }\n</style>\n<table border=\"1\" class=\"dataframe\">\n  <thead>\n    <tr style=\"text-align: right;\">\n      <th></th>\n      <th>Unnamed: 0</th>\n      <th>disease</th>\n      <th>index</th>\n      <th>0 (data)</th>\n      <th>1 (summary)</th>\n      <th>2 (second opinion)</th>\n      <th>Dirangkum atau tidak?</th>\n      <th>Validated by doctor</th>\n    </tr>\n  </thead>\n  <tbody>\n    <tr>\n      <th>0</th>\n      <td>0</td>\n      <td>Anthrax</td>\n      <td>Disease</td>\n      <td>Anthrax</td>\n      <td>Anthrax</td>\n      <td>Anthrax</td>\n      <td>Clear</td>\n      <td>False</td>\n    </tr>\n    <tr>\n      <th>1</th>\n      <td>1</td>\n      <td>Anthrax</td>\n      <td>Classification</td>\n      <td>ICD-9 022; ICD-10 A22</td>\n      <td>ICD-9 022; ICD-10 A22</td>\n      <td>ICD-9 022; ICD-10 A22</td>\n      <td>Clear</td>\n      <td>False</td>\n    </tr>\n    <tr>\n      <th>2</th>\n      <td>2</td>\n      <td>Anthrax</td>\n      <td>Syndromes and synonyms</td>\n      <td>Charbon, malignant pustule, malignant edema, w...</td>\n      <td>Charbon, malignant pustule, malignant edema, w...</td>\n      <td>Charbon, malignant pustule, malignant edema, w...</td>\n      <td>Clear</td>\n      <td>False</td>\n    </tr>\n    <tr>\n      <th>3</th>\n      <td>3</td>\n      <td>Anthrax</td>\n      <td>Agent</td>\n      <td>Spores of Bacillus anthracis, a Gram-positive,...</td>\n      <td>Spores of Bacillus anthracis, a Gram-positive,...</td>\n      <td>Spores of Bacillus anthracis, a Gram-positive,...</td>\n      <td>Perlu validasi</td>\n      <td>False</td>\n    </tr>\n    <tr>\n      <th>4</th>\n      <td>4</td>\n      <td>Anthrax</td>\n      <td>Reservoir</td>\n      <td>Soil, animal hair, wool or hides, particularly...</td>\n      <td>Soil, animal hair, wool or hides, particularly...</td>\n      <td>Soil, animal hair, wool or hides, particularly...</td>\n      <td>Perlu validasi</td>\n      <td>False</td>\n    </tr>\n    <tr>\n      <th>...</th>\n      <td>...</td>\n      <td>...</td>\n      <td>...</td>\n      <td>...</td>\n      <td>...</td>\n      <td>...</td>\n      <td>...</td>\n      <td>...</td>\n    </tr>\n    <tr>\n      <th>1803</th>\n      <td>1803</td>\n      <td>Zika Fever</td>\n      <td>Therapy</td>\n      <td>Supportive.</td>\n      <td>Supportive.</td>\n      <td>Supportive.</td>\n      <td>Clear</td>\n      <td>False</td>\n    </tr>\n    <tr>\n      <th>1804</th>\n      <td>1804</td>\n      <td>Zika Fever</td>\n      <td>Prevention</td>\n      <td>Anti-mosquito precautions.</td>\n      <td>Anti-mosquito precautions.</td>\n      <td>Anti-mosquito precautions.</td>\n      <td>Clear</td>\n      <td>False</td>\n    </tr>\n    <tr>\n      <th>1805</th>\n      <td>1805</td>\n      <td>Zika Fever</td>\n      <td>Epidemiology</td>\n      <td>Zika virus is present in the tropical regions ...</td>\n      <td>Zika virus is present in the tropical regions ...</td>\n      <td>Zika virus is present in the tropical regions ...</td>\n      <td>Perlu validasi</td>\n      <td>False</td>\n    </tr>\n    <tr>\n      <th>1806</th>\n      <td>1806</td>\n      <td>Zika Fever</td>\n      <td>Communicability</td>\n      <td>NaN</td>\n      <td>NaN</td>\n      <td>NaN</td>\n      <td>Clear</td>\n      <td>False</td>\n    </tr>\n    <tr>\n      <th>1807</th>\n      <td>1807</td>\n      <td>Zika Fever</td>\n      <td>Prepatent period</td>\n      <td>NaN</td>\n      <td>NaN</td>\n      <td>NaN</td>\n      <td>Clear</td>\n      <td>False</td>\n    </tr>\n  </tbody>\n</table>\n<p>1808 rows × 8 columns</p>\n</div>"
     },
     "execution_count": 3,
     "metadata": {},
     "output_type": "execute_result"
    }
   ],
   "source": [
    "df"
   ],
   "metadata": {
    "collapsed": false,
    "ExecuteTime": {
     "start_time": "2023-05-02T10:41:49.339423Z",
     "end_time": "2023-05-02T10:41:49.391782Z"
    }
   }
  },
  {
   "cell_type": "code",
   "execution_count": 4,
   "outputs": [],
   "source": [
    "# remove row that have communicability and prepatent period in index column\n",
    "df = df[(df[\"index\"]!=\"Communicability\")]\n",
    "df = df[(df[\"index\"]!=\"Prepatent period\")]"
   ],
   "metadata": {
    "collapsed": false,
    "ExecuteTime": {
     "start_time": "2023-05-02T10:41:49.369383Z",
     "end_time": "2023-05-02T10:41:49.391782Z"
    }
   }
  },
  {
   "cell_type": "code",
   "execution_count": 5,
   "outputs": [
    {
     "data": {
      "text/plain": "      Unnamed: 0                            disease       index   \n55            55                           Botulism       Cycle  \\\n69            69                        Brucellosis      Vector   \n117          117                         Diphtheria      Vector   \n119          119                         Diphtheria       Cycle   \n135          135                        Donovanosis       Cycle   \n...          ...                                ...         ...   \n1660        1660  Severe Acute Respiratory Syndrome  Prevention   \n1687        1687     Tacaribe Complex Virus Disease       Cycle   \n1715        1715  Variant Creutzfeldt–Jakob Disease       Agent   \n1717        1717  Variant Creutzfeldt–Jakob Disease      Vector   \n1760        1760                    West Nile Fever     Disease   \n\n                                               0 (data)   \n55                                                  NaN  \\\n69                                                  NaN   \n117                                                 NaN   \n119                                                 NaN   \n135                                                 NaN   \n...                                                 ...   \n1660  The control of wildlife farms and markets to r...   \n1687                                                NaN   \n1715  The etiological agent of variant Creutzfeldt–J...   \n1717                                                NaN   \n1760                                    West Nile Fever   \n\n                                            1 (summary) 2 (second opinion)   \n55                                                  NaN                NaN  \\\n69                                                  NaN                NaN   \n117                                                 NaN                NaN   \n119                                                 NaN                NaN   \n135                                                 NaN                NaN   \n...                                                 ...                ...   \n1660  The control of wildlife farms and markets to r...                NaN   \n1687                                                NaN                NaN   \n1715                                                NaN                NaN   \n1717                                                NaN                NaN   \n1760                                                NaN                NaN   \n\n     Dirangkum atau tidak?  Validated by doctor  \n55                   Clear                False  \n69                   Clear                False  \n117         Perlu validasi                False  \n119                  Clear                False  \n135                  Clear                False  \n...                    ...                  ...  \n1660        Perlu validasi                False  \n1687                 Clear                False  \n1715        Perlu validasi                False  \n1717                 Clear                False  \n1760        Perlu validasi                False  \n\n[88 rows x 8 columns]",
      "text/html": "<div>\n<style scoped>\n    .dataframe tbody tr th:only-of-type {\n        vertical-align: middle;\n    }\n\n    .dataframe tbody tr th {\n        vertical-align: top;\n    }\n\n    .dataframe thead th {\n        text-align: right;\n    }\n</style>\n<table border=\"1\" class=\"dataframe\">\n  <thead>\n    <tr style=\"text-align: right;\">\n      <th></th>\n      <th>Unnamed: 0</th>\n      <th>disease</th>\n      <th>index</th>\n      <th>0 (data)</th>\n      <th>1 (summary)</th>\n      <th>2 (second opinion)</th>\n      <th>Dirangkum atau tidak?</th>\n      <th>Validated by doctor</th>\n    </tr>\n  </thead>\n  <tbody>\n    <tr>\n      <th>55</th>\n      <td>55</td>\n      <td>Botulism</td>\n      <td>Cycle</td>\n      <td>NaN</td>\n      <td>NaN</td>\n      <td>NaN</td>\n      <td>Clear</td>\n      <td>False</td>\n    </tr>\n    <tr>\n      <th>69</th>\n      <td>69</td>\n      <td>Brucellosis</td>\n      <td>Vector</td>\n      <td>NaN</td>\n      <td>NaN</td>\n      <td>NaN</td>\n      <td>Clear</td>\n      <td>False</td>\n    </tr>\n    <tr>\n      <th>117</th>\n      <td>117</td>\n      <td>Diphtheria</td>\n      <td>Vector</td>\n      <td>NaN</td>\n      <td>NaN</td>\n      <td>NaN</td>\n      <td>Perlu validasi</td>\n      <td>False</td>\n    </tr>\n    <tr>\n      <th>119</th>\n      <td>119</td>\n      <td>Diphtheria</td>\n      <td>Cycle</td>\n      <td>NaN</td>\n      <td>NaN</td>\n      <td>NaN</td>\n      <td>Clear</td>\n      <td>False</td>\n    </tr>\n    <tr>\n      <th>135</th>\n      <td>135</td>\n      <td>Donovanosis</td>\n      <td>Cycle</td>\n      <td>NaN</td>\n      <td>NaN</td>\n      <td>NaN</td>\n      <td>Clear</td>\n      <td>False</td>\n    </tr>\n    <tr>\n      <th>...</th>\n      <td>...</td>\n      <td>...</td>\n      <td>...</td>\n      <td>...</td>\n      <td>...</td>\n      <td>...</td>\n      <td>...</td>\n      <td>...</td>\n    </tr>\n    <tr>\n      <th>1660</th>\n      <td>1660</td>\n      <td>Severe Acute Respiratory Syndrome</td>\n      <td>Prevention</td>\n      <td>The control of wildlife farms and markets to r...</td>\n      <td>The control of wildlife farms and markets to r...</td>\n      <td>NaN</td>\n      <td>Perlu validasi</td>\n      <td>False</td>\n    </tr>\n    <tr>\n      <th>1687</th>\n      <td>1687</td>\n      <td>Tacaribe Complex Virus Disease</td>\n      <td>Cycle</td>\n      <td>NaN</td>\n      <td>NaN</td>\n      <td>NaN</td>\n      <td>Clear</td>\n      <td>False</td>\n    </tr>\n    <tr>\n      <th>1715</th>\n      <td>1715</td>\n      <td>Variant Creutzfeldt–Jakob Disease</td>\n      <td>Agent</td>\n      <td>The etiological agent of variant Creutzfeldt–J...</td>\n      <td>NaN</td>\n      <td>NaN</td>\n      <td>Perlu validasi</td>\n      <td>False</td>\n    </tr>\n    <tr>\n      <th>1717</th>\n      <td>1717</td>\n      <td>Variant Creutzfeldt–Jakob Disease</td>\n      <td>Vector</td>\n      <td>NaN</td>\n      <td>NaN</td>\n      <td>NaN</td>\n      <td>Clear</td>\n      <td>False</td>\n    </tr>\n    <tr>\n      <th>1760</th>\n      <td>1760</td>\n      <td>West Nile Fever</td>\n      <td>Disease</td>\n      <td>West Nile Fever</td>\n      <td>NaN</td>\n      <td>NaN</td>\n      <td>Perlu validasi</td>\n      <td>False</td>\n    </tr>\n  </tbody>\n</table>\n<p>88 rows × 8 columns</p>\n</div>"
     },
     "execution_count": 5,
     "metadata": {},
     "output_type": "execute_result"
    }
   ],
   "source": [
    "# check for null\n",
    "df.loc[df.isna().any(axis=1)]"
   ],
   "metadata": {
    "collapsed": false,
    "ExecuteTime": {
     "start_time": "2023-05-02T10:41:49.399781Z",
     "end_time": "2023-05-02T10:41:49.435454Z"
    }
   }
  },
  {
   "cell_type": "code",
   "execution_count": 6,
   "outputs": [],
   "source": [
    "df = df.dropna()"
   ],
   "metadata": {
    "collapsed": false,
    "ExecuteTime": {
     "start_time": "2023-05-02T10:41:49.419418Z",
     "end_time": "2023-05-02T10:41:49.490352Z"
    }
   }
  },
  {
   "cell_type": "code",
   "execution_count": 7,
   "outputs": [
    {
     "data": {
      "text/plain": "      Unnamed: 0     disease                   index   \n0              0     Anthrax                 Disease  \\\n1              1     Anthrax          Classification   \n2              2     Anthrax  Syndromes and synonyms   \n3              3     Anthrax                   Agent   \n4              4     Anthrax               Reservoir   \n...          ...         ...                     ...   \n1801        1801  Zika Fever       Clinical findings   \n1802        1802  Zika Fever        Diagnostic tests   \n1803        1803  Zika Fever                 Therapy   \n1804        1804  Zika Fever              Prevention   \n1805        1805  Zika Fever            Epidemiology   \n\n                                               0 (data)   \n0                                               Anthrax  \\\n1                                 ICD-9 022; ICD-10 A22   \n2     Charbon, malignant pustule, malignant edema, w...   \n3     Spores of Bacillus anthracis, a Gram-positive,...   \n4     Soil, animal hair, wool or hides, particularly...   \n...                                                 ...   \n1801  Mild self-limiting dengue-like febrile illness...   \n1802  Virus detection in the blood by RT-PCR or viru...   \n1803                                        Supportive.   \n1804                         Anti-mosquito precautions.   \n1805  Zika virus is present in the tropical regions ...   \n\n                                            1 (summary)   \n0                                               Anthrax  \\\n1                                 ICD-9 022; ICD-10 A22   \n2     Charbon, malignant pustule, malignant edema, w...   \n3     Spores of Bacillus anthracis, a Gram-positive,...   \n4     Soil, animal hair, wool or hides, particularly...   \n...                                                 ...   \n1801  Mild self-limiting dengue-like febrile illness...   \n1802  Virus detection in the blood by RT-PCR or viru...   \n1803                                        Supportive.   \n1804                         Anti-mosquito precautions.   \n1805  Zika virus is present in the tropical regions ...   \n\n                                     2 (second opinion) Dirangkum atau tidak?   \n0                                               Anthrax                 Clear  \\\n1                                 ICD-9 022; ICD-10 A22                 Clear   \n2     Charbon, malignant pustule, malignant edema, w...                 Clear   \n3     Spores of Bacillus anthracis, a Gram-positive,...        Perlu validasi   \n4     Soil, animal hair, wool or hides, particularly...        Perlu validasi   \n...                                                 ...                   ...   \n1801  Mild self-limiting dengue-like febrile illness...                 Clear   \n1802  Virus detection in the blood by RT-PCR or viru...        Perlu validasi   \n1803                                        Supportive.                 Clear   \n1804                         Anti-mosquito precautions.                 Clear   \n1805  Zika virus is present in the tropical regions ...        Perlu validasi   \n\n      Validated by doctor  \n0                   False  \n1                   False  \n2                   False  \n3                   False  \n4                   False  \n...                   ...  \n1801                False  \n1802                False  \n1803                False  \n1804                False  \n1805                False  \n\n[1494 rows x 8 columns]",
      "text/html": "<div>\n<style scoped>\n    .dataframe tbody tr th:only-of-type {\n        vertical-align: middle;\n    }\n\n    .dataframe tbody tr th {\n        vertical-align: top;\n    }\n\n    .dataframe thead th {\n        text-align: right;\n    }\n</style>\n<table border=\"1\" class=\"dataframe\">\n  <thead>\n    <tr style=\"text-align: right;\">\n      <th></th>\n      <th>Unnamed: 0</th>\n      <th>disease</th>\n      <th>index</th>\n      <th>0 (data)</th>\n      <th>1 (summary)</th>\n      <th>2 (second opinion)</th>\n      <th>Dirangkum atau tidak?</th>\n      <th>Validated by doctor</th>\n    </tr>\n  </thead>\n  <tbody>\n    <tr>\n      <th>0</th>\n      <td>0</td>\n      <td>Anthrax</td>\n      <td>Disease</td>\n      <td>Anthrax</td>\n      <td>Anthrax</td>\n      <td>Anthrax</td>\n      <td>Clear</td>\n      <td>False</td>\n    </tr>\n    <tr>\n      <th>1</th>\n      <td>1</td>\n      <td>Anthrax</td>\n      <td>Classification</td>\n      <td>ICD-9 022; ICD-10 A22</td>\n      <td>ICD-9 022; ICD-10 A22</td>\n      <td>ICD-9 022; ICD-10 A22</td>\n      <td>Clear</td>\n      <td>False</td>\n    </tr>\n    <tr>\n      <th>2</th>\n      <td>2</td>\n      <td>Anthrax</td>\n      <td>Syndromes and synonyms</td>\n      <td>Charbon, malignant pustule, malignant edema, w...</td>\n      <td>Charbon, malignant pustule, malignant edema, w...</td>\n      <td>Charbon, malignant pustule, malignant edema, w...</td>\n      <td>Clear</td>\n      <td>False</td>\n    </tr>\n    <tr>\n      <th>3</th>\n      <td>3</td>\n      <td>Anthrax</td>\n      <td>Agent</td>\n      <td>Spores of Bacillus anthracis, a Gram-positive,...</td>\n      <td>Spores of Bacillus anthracis, a Gram-positive,...</td>\n      <td>Spores of Bacillus anthracis, a Gram-positive,...</td>\n      <td>Perlu validasi</td>\n      <td>False</td>\n    </tr>\n    <tr>\n      <th>4</th>\n      <td>4</td>\n      <td>Anthrax</td>\n      <td>Reservoir</td>\n      <td>Soil, animal hair, wool or hides, particularly...</td>\n      <td>Soil, animal hair, wool or hides, particularly...</td>\n      <td>Soil, animal hair, wool or hides, particularly...</td>\n      <td>Perlu validasi</td>\n      <td>False</td>\n    </tr>\n    <tr>\n      <th>...</th>\n      <td>...</td>\n      <td>...</td>\n      <td>...</td>\n      <td>...</td>\n      <td>...</td>\n      <td>...</td>\n      <td>...</td>\n      <td>...</td>\n    </tr>\n    <tr>\n      <th>1801</th>\n      <td>1801</td>\n      <td>Zika Fever</td>\n      <td>Clinical findings</td>\n      <td>Mild self-limiting dengue-like febrile illness...</td>\n      <td>Mild self-limiting dengue-like febrile illness...</td>\n      <td>Mild self-limiting dengue-like febrile illness...</td>\n      <td>Clear</td>\n      <td>False</td>\n    </tr>\n    <tr>\n      <th>1802</th>\n      <td>1802</td>\n      <td>Zika Fever</td>\n      <td>Diagnostic tests</td>\n      <td>Virus detection in the blood by RT-PCR or viru...</td>\n      <td>Virus detection in the blood by RT-PCR or viru...</td>\n      <td>Virus detection in the blood by RT-PCR or viru...</td>\n      <td>Perlu validasi</td>\n      <td>False</td>\n    </tr>\n    <tr>\n      <th>1803</th>\n      <td>1803</td>\n      <td>Zika Fever</td>\n      <td>Therapy</td>\n      <td>Supportive.</td>\n      <td>Supportive.</td>\n      <td>Supportive.</td>\n      <td>Clear</td>\n      <td>False</td>\n    </tr>\n    <tr>\n      <th>1804</th>\n      <td>1804</td>\n      <td>Zika Fever</td>\n      <td>Prevention</td>\n      <td>Anti-mosquito precautions.</td>\n      <td>Anti-mosquito precautions.</td>\n      <td>Anti-mosquito precautions.</td>\n      <td>Clear</td>\n      <td>False</td>\n    </tr>\n    <tr>\n      <th>1805</th>\n      <td>1805</td>\n      <td>Zika Fever</td>\n      <td>Epidemiology</td>\n      <td>Zika virus is present in the tropical regions ...</td>\n      <td>Zika virus is present in the tropical regions ...</td>\n      <td>Zika virus is present in the tropical regions ...</td>\n      <td>Perlu validasi</td>\n      <td>False</td>\n    </tr>\n  </tbody>\n</table>\n<p>1494 rows × 8 columns</p>\n</div>"
     },
     "execution_count": 7,
     "metadata": {},
     "output_type": "execute_result"
    }
   ],
   "source": [
    "df"
   ],
   "metadata": {
    "collapsed": false,
    "ExecuteTime": {
     "start_time": "2023-05-02T10:41:49.430441Z",
     "end_time": "2023-05-02T10:41:49.505275Z"
    }
   }
  },
  {
   "cell_type": "code",
   "execution_count": 8,
   "outputs": [],
   "source": [
    "origin_texts = df['0 (data)']\n",
    "first_summary = df['1 (summary)']\n",
    "second_summary = df['2 (second opinion)']"
   ],
   "metadata": {
    "collapsed": false,
    "ExecuteTime": {
     "start_time": "2023-05-02T10:41:49.446786Z",
     "end_time": "2023-05-02T10:41:49.539433Z"
    }
   }
  },
  {
   "cell_type": "code",
   "execution_count": 9,
   "outputs": [
    {
     "data": {
      "text/plain": "0                                                 Anthrax\n1                                   ICD-9 022; ICD-10 A22\n2       Charbon, malignant pustule, malignant edema, w...\n3       Spores of Bacillus anthracis, a Gram-positive,...\n4       Soil, animal hair, wool or hides, particularly...\n                              ...                        \n1801    Mild self-limiting dengue-like febrile illness...\n1802    Virus detection in the blood by RT-PCR or viru...\n1803                                          Supportive.\n1804                           Anti-mosquito precautions.\n1805    Zika virus is present in the tropical regions ...\nName: 0 (data), Length: 1494, dtype: object"
     },
     "execution_count": 9,
     "metadata": {},
     "output_type": "execute_result"
    }
   ],
   "source": [
    "origin_texts"
   ],
   "metadata": {
    "collapsed": false,
    "ExecuteTime": {
     "start_time": "2023-05-02T10:41:49.461233Z",
     "end_time": "2023-05-02T10:41:49.627180Z"
    }
   }
  },
  {
   "cell_type": "code",
   "execution_count": 10,
   "outputs": [],
   "source": [
    "# output the text\n",
    "first_opinion_list = first_summary.to_list()\n",
    "second_opinion_list = second_summary.to_list()\n",
    "combined_list = []"
   ],
   "metadata": {
    "collapsed": false,
    "ExecuteTime": {
     "start_time": "2023-05-02T10:41:49.477232Z",
     "end_time": "2023-05-02T10:41:49.633179Z"
    }
   }
  },
  {
   "cell_type": "code",
   "execution_count": 11,
   "outputs": [],
   "source": [
    "for idx, first_opinion_text in enumerate(first_opinion_list):\n",
    "    combined_list.append(first_opinion_text)\n",
    "    combined_list.append(second_opinion_list[idx])"
   ],
   "metadata": {
    "collapsed": false,
    "ExecuteTime": {
     "start_time": "2023-05-02T10:41:49.496516Z",
     "end_time": "2023-05-02T10:41:49.633179Z"
    }
   }
  },
  {
   "cell_type": "code",
   "execution_count": 13,
   "outputs": [],
   "source": [
    "np.savetxt(\"test.source\", origin_texts.values, fmt='%s', encoding=\"utf-8\")\n",
    "np.savetxt(\"test.target\", first_summary.values, fmt='%s', encoding=\"utf-8\")\n",
    "np.savetxt(\"test.out\", combined_list, fmt='%s', encoding=\"utf-8\")"
   ],
   "metadata": {
    "collapsed": false,
    "ExecuteTime": {
     "start_time": "2023-05-02T10:42:25.250576Z",
     "end_time": "2023-05-02T10:42:25.385319Z"
    }
   }
  },
  {
   "cell_type": "code",
   "execution_count": 12,
   "outputs": [],
   "source": [],
   "metadata": {
    "collapsed": false,
    "ExecuteTime": {
     "start_time": "2023-05-02T10:41:49.526241Z",
     "end_time": "2023-05-02T10:41:49.665277Z"
    }
   }
  }
 ],
 "metadata": {
  "kernelspec": {
   "display_name": "Python 3",
   "language": "python",
   "name": "python3"
  },
  "language_info": {
   "codemirror_mode": {
    "name": "ipython",
    "version": 2
   },
   "file_extension": ".py",
   "mimetype": "text/x-python",
   "name": "python",
   "nbconvert_exporter": "python",
   "pygments_lexer": "ipython2",
   "version": "2.7.6"
  }
 },
 "nbformat": 4,
 "nbformat_minor": 0
}
