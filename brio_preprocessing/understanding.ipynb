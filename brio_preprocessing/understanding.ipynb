{
 "cells": [
  {
   "cell_type": "code",
   "execution_count": 1,
   "metadata": {
    "collapsed": true,
    "ExecuteTime": {
     "start_time": "2023-05-21T10:37:14.371872Z",
     "end_time": "2023-05-21T10:37:15.237451Z"
    }
   },
   "outputs": [],
   "source": [
    "import pandas as pd\n",
    "import numpy as np"
   ]
  },
  {
   "cell_type": "code",
   "execution_count": 2,
   "outputs": [
    {
     "name": "stderr",
     "output_type": "stream",
     "text": [
      "C:\\Users\\mrcra\\anaconda3\\envs\\briopreenv\\lib\\site-packages\\openpyxl\\worksheet\\_read_only.py:81: UserWarning: Unknown extension is not supported and will be removed\n",
      "  for idx, row in parser.parse():\n"
     ]
    }
   ],
   "source": [
    "df = pd.read_excel('raw_data.xlsx')"
   ],
   "metadata": {
    "collapsed": false,
    "ExecuteTime": {
     "start_time": "2023-05-21T10:37:27.342027Z",
     "end_time": "2023-05-21T10:37:27.942159Z"
    }
   }
  },
  {
   "cell_type": "code",
   "execution_count": 3,
   "outputs": [],
   "source": [
    "# remove row that have communicability and prepatent period in index column\n",
    "df = df[(df[\"index\"]!=\"Communicability\")]\n",
    "df = df[(df[\"index\"]!=\"Prepatent period\")]"
   ],
   "metadata": {
    "collapsed": false,
    "ExecuteTime": {
     "start_time": "2023-05-21T10:37:29.878184Z",
     "end_time": "2023-05-21T10:37:29.908171Z"
    }
   }
  },
  {
   "cell_type": "code",
   "execution_count": 6,
   "outputs": [
    {
     "name": "stdout",
     "output_type": "stream",
     "text": [
      "index                   Dirangkum atau tidak?\n",
      "Agent                   Clear                      6\n",
      "                        Perlu validasi           107\n",
      "Classification          Clear                    110\n",
      "                        Perlu validasi             3\n",
      "Clinical findings       Clear                      1\n",
      "                        Perlu validasi           112\n",
      "Cycle                   Clear                     46\n",
      "                        Perlu validasi            67\n",
      "Diagnostic tests        Clear                     26\n",
      "                        Perlu validasi            87\n",
      "Disease                 Clear                    112\n",
      "                        Perlu validasi             1\n",
      "Epidemiology            Perlu validasi           113\n",
      "Incubation period       Clear                     96\n",
      "                        Perlu validasi            17\n",
      "Prevention              Clear                     26\n",
      "                        Perlu validasi            87\n",
      "Reservoir               Clear                     43\n",
      "                        Perlu validasi            70\n",
      "Syndromes and synonyms  Clear                    113\n",
      "Therapy                 Clear                     46\n",
      "                        Perlu validasi            67\n",
      "Transmission            Clear                     35\n",
      "                        Perlu validasi            78\n",
      "Vector                  Clear                     69\n",
      "                        Perlu validasi            44\n",
      "dtype: int64\n"
     ]
    }
   ],
   "source": [
    "print(df.groupby(['index','Dirangkum atau tidak?']).size())"
   ],
   "metadata": {
    "collapsed": false,
    "ExecuteTime": {
     "start_time": "2023-05-21T10:39:53.364514Z",
     "end_time": "2023-05-21T10:39:53.378514Z"
    }
   }
  },
  {
   "cell_type": "code",
   "execution_count": 7,
   "outputs": [],
   "source": [
    "# remove row that majority of its contents can't be summarized\n",
    "df = df[(df[\"index\"]!=\"Classification\")]\n",
    "df = df[(df[\"index\"]!=\"Disease\")]\n",
    "df = df[(df[\"index\"]!=\"Incubation period\")]"
   ],
   "metadata": {
    "collapsed": false,
    "ExecuteTime": {
     "start_time": "2023-05-21T10:56:41.438771Z",
     "end_time": "2023-05-21T10:56:41.464309Z"
    }
   }
  },
  {
   "cell_type": "code",
   "execution_count": 8,
   "outputs": [],
   "source": [
    "df = df.dropna()"
   ],
   "metadata": {
    "collapsed": false,
    "ExecuteTime": {
     "start_time": "2023-05-21T10:56:53.142163Z",
     "end_time": "2023-05-21T10:56:53.173143Z"
    }
   }
  },
  {
   "cell_type": "code",
   "execution_count": 10,
   "outputs": [
    {
     "data": {
      "text/plain": "      Unnamed: 0     disease                   index   \n2              2     Anthrax  Syndromes and synonyms  \\\n3              3     Anthrax                   Agent   \n4              4     Anthrax               Reservoir   \n5              5     Anthrax                  Vector   \n6              6     Anthrax            Transmission   \n...          ...         ...                     ...   \n1801        1801  Zika Fever       Clinical findings   \n1802        1802  Zika Fever        Diagnostic tests   \n1803        1803  Zika Fever                 Therapy   \n1804        1804  Zika Fever              Prevention   \n1805        1805  Zika Fever            Epidemiology   \n\n                                               0 (data)   \n2     Charbon, malignant pustule, malignant edema, w...  \\\n3     Spores of Bacillus anthracis, a Gram-positive,...   \n4     Soil, animal hair, wool or hides, particularly...   \n5     Tabanid and Stomoxys flies and mosquitoes can ...   \n6     Contact with infected animal tissue. Cutaneous...   \n...                                                 ...   \n1801  Mild self-limiting dengue-like febrile illness...   \n1802  Virus detection in the blood by RT-PCR or viru...   \n1803                                        Supportive.   \n1804                         Anti-mosquito precautions.   \n1805  Zika virus is present in the tropical regions ...   \n\n                                            1 (summary)   \n2     Charbon, malignant pustule, malignant edema, w...  \\\n3     Spores of Bacillus anthracis, a Gram-positive,...   \n4     Soil, animal hair, wool or hides, particularly...   \n5     Tabanid and Stomoxys flies and mosquitoes, blo...   \n6                   Contact with infected animal tissue   \n...                                                 ...   \n1801  Mild self-limiting dengue-like febrile illness...   \n1802  Virus detection in the blood by RT-PCR or viru...   \n1803                                        Supportive.   \n1804                         Anti-mosquito precautions.   \n1805  Zika virus is present in the tropical regions ...   \n\n                                     2 (second opinion) Dirangkum atau tidak?   \n2     Charbon, malignant pustule, malignant edema, w...                 Clear  \\\n3     Spores of Bacillus anthracis, a Gram-positive,...        Perlu validasi   \n4     Soil, animal hair, wool or hides, particularly...        Perlu validasi   \n5     Tabanid and Stomoxys flies and mosquitoes, blo...        Perlu validasi   \n6                   Contact with infected animal tissue        Perlu validasi   \n...                                                 ...                   ...   \n1801  Mild self-limiting dengue-like febrile illness...                 Clear   \n1802  Virus detection in the blood by RT-PCR or viru...        Perlu validasi   \n1803                                        Supportive.                 Clear   \n1804                         Anti-mosquito precautions.                 Clear   \n1805  Zika virus is present in the tropical regions ...        Perlu validasi   \n\n      Validated by doctor  \n2                   False  \n3                   False  \n4                   False  \n5                   False  \n6                   False  \n...                   ...  \n1801                False  \n1802                False  \n1803                False  \n1804                False  \n1805                False  \n\n[1157 rows x 8 columns]",
      "text/html": "<div>\n<style scoped>\n    .dataframe tbody tr th:only-of-type {\n        vertical-align: middle;\n    }\n\n    .dataframe tbody tr th {\n        vertical-align: top;\n    }\n\n    .dataframe thead th {\n        text-align: right;\n    }\n</style>\n<table border=\"1\" class=\"dataframe\">\n  <thead>\n    <tr style=\"text-align: right;\">\n      <th></th>\n      <th>Unnamed: 0</th>\n      <th>disease</th>\n      <th>index</th>\n      <th>0 (data)</th>\n      <th>1 (summary)</th>\n      <th>2 (second opinion)</th>\n      <th>Dirangkum atau tidak?</th>\n      <th>Validated by doctor</th>\n    </tr>\n  </thead>\n  <tbody>\n    <tr>\n      <th>2</th>\n      <td>2</td>\n      <td>Anthrax</td>\n      <td>Syndromes and synonyms</td>\n      <td>Charbon, malignant pustule, malignant edema, w...</td>\n      <td>Charbon, malignant pustule, malignant edema, w...</td>\n      <td>Charbon, malignant pustule, malignant edema, w...</td>\n      <td>Clear</td>\n      <td>False</td>\n    </tr>\n    <tr>\n      <th>3</th>\n      <td>3</td>\n      <td>Anthrax</td>\n      <td>Agent</td>\n      <td>Spores of Bacillus anthracis, a Gram-positive,...</td>\n      <td>Spores of Bacillus anthracis, a Gram-positive,...</td>\n      <td>Spores of Bacillus anthracis, a Gram-positive,...</td>\n      <td>Perlu validasi</td>\n      <td>False</td>\n    </tr>\n    <tr>\n      <th>4</th>\n      <td>4</td>\n      <td>Anthrax</td>\n      <td>Reservoir</td>\n      <td>Soil, animal hair, wool or hides, particularly...</td>\n      <td>Soil, animal hair, wool or hides, particularly...</td>\n      <td>Soil, animal hair, wool or hides, particularly...</td>\n      <td>Perlu validasi</td>\n      <td>False</td>\n    </tr>\n    <tr>\n      <th>5</th>\n      <td>5</td>\n      <td>Anthrax</td>\n      <td>Vector</td>\n      <td>Tabanid and Stomoxys flies and mosquitoes can ...</td>\n      <td>Tabanid and Stomoxys flies and mosquitoes, blo...</td>\n      <td>Tabanid and Stomoxys flies and mosquitoes, blo...</td>\n      <td>Perlu validasi</td>\n      <td>False</td>\n    </tr>\n    <tr>\n      <th>6</th>\n      <td>6</td>\n      <td>Anthrax</td>\n      <td>Transmission</td>\n      <td>Contact with infected animal tissue. Cutaneous...</td>\n      <td>Contact with infected animal tissue</td>\n      <td>Contact with infected animal tissue</td>\n      <td>Perlu validasi</td>\n      <td>False</td>\n    </tr>\n    <tr>\n      <th>...</th>\n      <td>...</td>\n      <td>...</td>\n      <td>...</td>\n      <td>...</td>\n      <td>...</td>\n      <td>...</td>\n      <td>...</td>\n      <td>...</td>\n    </tr>\n    <tr>\n      <th>1801</th>\n      <td>1801</td>\n      <td>Zika Fever</td>\n      <td>Clinical findings</td>\n      <td>Mild self-limiting dengue-like febrile illness...</td>\n      <td>Mild self-limiting dengue-like febrile illness...</td>\n      <td>Mild self-limiting dengue-like febrile illness...</td>\n      <td>Clear</td>\n      <td>False</td>\n    </tr>\n    <tr>\n      <th>1802</th>\n      <td>1802</td>\n      <td>Zika Fever</td>\n      <td>Diagnostic tests</td>\n      <td>Virus detection in the blood by RT-PCR or viru...</td>\n      <td>Virus detection in the blood by RT-PCR or viru...</td>\n      <td>Virus detection in the blood by RT-PCR or viru...</td>\n      <td>Perlu validasi</td>\n      <td>False</td>\n    </tr>\n    <tr>\n      <th>1803</th>\n      <td>1803</td>\n      <td>Zika Fever</td>\n      <td>Therapy</td>\n      <td>Supportive.</td>\n      <td>Supportive.</td>\n      <td>Supportive.</td>\n      <td>Clear</td>\n      <td>False</td>\n    </tr>\n    <tr>\n      <th>1804</th>\n      <td>1804</td>\n      <td>Zika Fever</td>\n      <td>Prevention</td>\n      <td>Anti-mosquito precautions.</td>\n      <td>Anti-mosquito precautions.</td>\n      <td>Anti-mosquito precautions.</td>\n      <td>Clear</td>\n      <td>False</td>\n    </tr>\n    <tr>\n      <th>1805</th>\n      <td>1805</td>\n      <td>Zika Fever</td>\n      <td>Epidemiology</td>\n      <td>Zika virus is present in the tropical regions ...</td>\n      <td>Zika virus is present in the tropical regions ...</td>\n      <td>Zika virus is present in the tropical regions ...</td>\n      <td>Perlu validasi</td>\n      <td>False</td>\n    </tr>\n  </tbody>\n</table>\n<p>1157 rows × 8 columns</p>\n</div>"
     },
     "execution_count": 10,
     "metadata": {},
     "output_type": "execute_result"
    }
   ],
   "source": [
    "df"
   ],
   "metadata": {
    "collapsed": false,
    "ExecuteTime": {
     "start_time": "2023-05-21T10:57:28.235885Z",
     "end_time": "2023-05-21T10:57:28.257452Z"
    }
   }
  },
  {
   "cell_type": "code",
   "execution_count": 21,
   "outputs": [],
   "source": [
    "max_input_len =  df[\"0 (data)\"].str.len().max()\n",
    "min_input_len = df[\"0 (data)\"].str.len().min()\n",
    "\n",
    "max_target_len = df[\"1 (summary)\"].str.len().max()\n",
    "min_target_len = df[\"1 (summary)\"].str.len().min()"
   ],
   "metadata": {
    "collapsed": false,
    "ExecuteTime": {
     "start_time": "2023-05-21T11:10:00.217606Z",
     "end_time": "2023-05-21T11:10:00.253506Z"
    }
   }
  },
  {
   "cell_type": "code",
   "execution_count": 25,
   "outputs": [
    {
     "data": {
      "text/plain": "count    1157.000000\nmean      298.889369\nstd       295.273947\nmin         4.000000\n25%        94.000000\n50%       203.000000\n75%       399.000000\nmax      1758.000000\nName: 0 (data), dtype: float64"
     },
     "execution_count": 25,
     "metadata": {},
     "output_type": "execute_result"
    }
   ],
   "source": [
    "df[\"0 (data)\"].str.len().describe()"
   ],
   "metadata": {
    "collapsed": false,
    "ExecuteTime": {
     "start_time": "2023-05-21T11:15:49.317789Z",
     "end_time": "2023-05-21T11:15:49.372163Z"
    }
   }
  },
  {
   "cell_type": "code",
   "execution_count": 35,
   "outputs": [
    {
     "data": {
      "text/plain": "<Axes: ylabel='Frequency'>"
     },
     "execution_count": 35,
     "metadata": {},
     "output_type": "execute_result"
    },
    {
     "data": {
      "text/plain": "<Figure size 640x480 with 1 Axes>",
      "image/png": "[encoded data removed]"
     },
     "metadata": {},
     "output_type": "display_data"
    }
   ],
   "source": [
    "df[\"0 (data)\"].str.len().plot.hist()"
   ],
   "metadata": {
    "collapsed": false,
    "ExecuteTime": {
     "start_time": "2023-05-21T11:29:20.157988Z",
     "end_time": "2023-05-21T11:29:20.337962Z"
    }
   }
  },
  {
   "cell_type": "code",
   "execution_count": 33,
   "outputs": [
    {
     "data": {
      "text/plain": "<Axes: >"
     },
     "execution_count": 33,
     "metadata": {},
     "output_type": "execute_result"
    },
    {
     "data": {
      "text/plain": "<Figure size 640x480 with 1 Axes>",
      "image/png": "[encoded data removed]"
     },
     "metadata": {},
     "output_type": "display_data"
    }
   ],
   "source": [
    "df[\"0 (data)\"].str.len().plot.box()"
   ],
   "metadata": {
    "collapsed": false,
    "ExecuteTime": {
     "start_time": "2023-05-21T11:27:38.805560Z",
     "end_time": "2023-05-21T11:27:38.963718Z"
    }
   }
  },
  {
   "cell_type": "code",
   "execution_count": 31,
   "outputs": [
    {
     "data": {
      "text/plain": "2        80\n3       276\n4       150\n5       127\n6       361\n       ... \n1801    244\n1802    134\n1803     11\n1804     26\n1805    982\nName: 0 (data), Length: 1157, dtype: int64"
     },
     "execution_count": 31,
     "metadata": {},
     "output_type": "execute_result"
    }
   ],
   "source": [
    "df[\"0 (data)\"].str.len()"
   ],
   "metadata": {
    "collapsed": false,
    "ExecuteTime": {
     "start_time": "2023-05-21T11:25:09.998301Z",
     "end_time": "2023-05-21T11:25:10.021134Z"
    }
   }
  },
  {
   "cell_type": "code",
   "execution_count": 26,
   "outputs": [
    {
     "data": {
      "text/plain": "count    1157.000000\nmean      112.240277\nstd        95.767033\nmin         4.000000\n25%        43.000000\n50%        89.000000\n75%       145.000000\nmax       775.000000\nName: 1 (summary), dtype: float64"
     },
     "execution_count": 26,
     "metadata": {},
     "output_type": "execute_result"
    }
   ],
   "source": [
    "df[\"1 (summary)\"].str.len().describe()"
   ],
   "metadata": {
    "collapsed": false,
    "ExecuteTime": {
     "start_time": "2023-05-21T11:16:18.108368Z",
     "end_time": "2023-05-21T11:16:18.159920Z"
    }
   }
  },
  {
   "cell_type": "code",
   "execution_count": 36,
   "outputs": [
    {
     "data": {
      "text/plain": "<Axes: ylabel='Frequency'>"
     },
     "execution_count": 36,
     "metadata": {},
     "output_type": "execute_result"
    },
    {
     "data": {
      "text/plain": "<Figure size 640x480 with 1 Axes>",
      "image/png": "[encoded data removed]"
     },
     "metadata": {},
     "output_type": "display_data"
    }
   ],
   "source": [
    "df[\"1 (summary)\"].str.len().plot.hist()"
   ],
   "metadata": {
    "collapsed": false,
    "ExecuteTime": {
     "start_time": "2023-05-21T11:29:33.188385Z",
     "end_time": "2023-05-21T11:29:33.363311Z"
    }
   }
  },
  {
   "cell_type": "code",
   "execution_count": 34,
   "outputs": [
    {
     "data": {
      "text/plain": "<Axes: >"
     },
     "execution_count": 34,
     "metadata": {},
     "output_type": "execute_result"
    },
    {
     "data": {
      "text/plain": "<Figure size 640x480 with 1 Axes>",
      "image/png": "[encoded data removed]"
     },
     "metadata": {},
     "output_type": "display_data"
    }
   ],
   "source": [
    "df[\"1 (summary)\"].str.len().plot.box()"
   ],
   "metadata": {
    "collapsed": false,
    "ExecuteTime": {
     "start_time": "2023-05-21T11:28:10.762028Z",
     "end_time": "2023-05-21T11:28:10.980734Z"
    }
   }
  },
  {
   "cell_type": "code",
   "execution_count": 17,
   "outputs": [
    {
     "name": "stdout",
     "output_type": "stream",
     "text": [
      "1758 4\n"
     ]
    }
   ],
   "source": [
    "print(max_input_len, min_input_len)"
   ],
   "metadata": {
    "collapsed": false,
    "ExecuteTime": {
     "start_time": "2023-05-21T11:07:25.344956Z",
     "end_time": "2023-05-21T11:07:25.369884Z"
    }
   }
  },
  {
   "cell_type": "code",
   "execution_count": 22,
   "outputs": [
    {
     "name": "stdout",
     "output_type": "stream",
     "text": [
      "775 4\n"
     ]
    }
   ],
   "source": [
    "print(max_target_len, min_target_len)"
   ],
   "metadata": {
    "collapsed": false,
    "ExecuteTime": {
     "start_time": "2023-05-21T11:10:21.693333Z",
     "end_time": "2023-05-21T11:10:21.710782Z"
    }
   }
  },
  {
   "cell_type": "code",
   "execution_count": 19,
   "outputs": [
    {
     "name": "stdout",
     "output_type": "stream",
     "text": [
      "      Unnamed: 0                            disease                   index   \n",
      "1650        1650  Severe Acute Respiratory Syndrome  Syndromes and synonyms  \\\n",
      "\n",
      "     0 (data) 1 (summary) 2 (second opinion) Dirangkum atau tidak?   \n",
      "1650     SARS        SARS               SARS                 Clear  \\\n",
      "\n",
      "      Validated by doctor  \n",
      "1650                False  \n"
     ]
    }
   ],
   "source": [
    "print(df[df[\"0 (data)\"].str.len()==min_input_len])"
   ],
   "metadata": {
    "collapsed": false,
    "ExecuteTime": {
     "start_time": "2023-05-21T11:09:12.311144Z",
     "end_time": "2023-05-21T11:09:12.336301Z"
    }
   }
  },
  {
   "cell_type": "code",
   "execution_count": 20,
   "outputs": [
    {
     "name": "stdout",
     "output_type": "stream",
     "text": [
      "      Unnamed: 0 disease         index   \n",
      "1533        1533   Mumps  Epidemiology  \\\n",
      "\n",
      "                                               0 (data)   \n",
      "1533  Studies of unvaccinated populations in some we...  \\\n",
      "\n",
      "                                            1 (summary)   \n",
      "1533  Studies of unvaccinated populations in some we...  \\\n",
      "\n",
      "                                     2 (second opinion) Dirangkum atau tidak?   \n",
      "1533  Studies of unvaccinated populations in some we...        Perlu validasi  \\\n",
      "\n",
      "      Validated by doctor  \n",
      "1533                False  \n"
     ]
    }
   ],
   "source": [
    "print(df[df[\"0 (data)\"].str.len()==max_input_len])"
   ],
   "metadata": {
    "collapsed": false,
    "ExecuteTime": {
     "start_time": "2023-05-21T11:09:12.923705Z",
     "end_time": "2023-05-21T11:09:12.936704Z"
    }
   }
  },
  {
   "cell_type": "code",
   "execution_count": 23,
   "outputs": [
    {
     "name": "stdout",
     "output_type": "stream",
     "text": [
      "      Unnamed: 0 disease              index   \n",
      "1529        1529   Mumps  Clinical findings  \\\n",
      "\n",
      "                                               0 (data)   \n",
      "1529  Up to one-third of cases are subclinical. The ...  \\\n",
      "\n",
      "                                            1 (summary)   \n",
      "1529  The illness begins with a prodrome of fever, m...  \\\n",
      "\n",
      "                                     2 (second opinion) Dirangkum atau tidak?   \n",
      "1529  The illness begins with a prodrome of fever, m...        Perlu validasi  \\\n",
      "\n",
      "      Validated by doctor  \n",
      "1529                False  \n"
     ]
    }
   ],
   "source": [
    "print(df[df[\"1 (summary)\"].str.len()==max_target_len])"
   ],
   "metadata": {
    "collapsed": false,
    "ExecuteTime": {
     "start_time": "2023-05-21T11:10:55.662885Z",
     "end_time": "2023-05-21T11:10:55.691381Z"
    }
   }
  },
  {
   "cell_type": "code",
   "execution_count": 24,
   "outputs": [
    {
     "name": "stdout",
     "output_type": "stream",
     "text": [
      "      Unnamed: 0                            disease                   index   \n",
      "1650        1650  Severe Acute Respiratory Syndrome  Syndromes and synonyms  \\\n",
      "1668        1668                      Sindbis Fever               Reservoir   \n",
      "1700        1700            Tick-borne Encephalitis               Reservoir   \n",
      "\n",
      "                                               0 (data) 1 (summary)   \n",
      "1650                                               SARS        SARS  \\\n",
      "1668  Wild, migratory birds of the order Passeriform...        Wild   \n",
      "1700  The only real reservoir is the tick. Viremia p...        tick   \n",
      "\n",
      "     2 (second opinion) Dirangkum atau tidak?  Validated by doctor  \n",
      "1650               SARS                 Clear                False  \n",
      "1668               Wild        Perlu validasi                False  \n",
      "1700               tick        Perlu validasi                False  \n"
     ]
    }
   ],
   "source": [
    "print(df[df[\"1 (summary)\"].str.len()==min_target_len])"
   ],
   "metadata": {
    "collapsed": false,
    "ExecuteTime": {
     "start_time": "2023-05-21T11:10:56.469269Z",
     "end_time": "2023-05-21T11:10:56.535816Z"
    }
   }
  },
  {
   "cell_type": "code",
   "execution_count": null,
   "outputs": [],
   "source": [],
   "metadata": {
    "collapsed": false
   }
  }
 ],
 "metadata": {
  "kernelspec": {
   "display_name": "Python 3",
   "language": "python",
   "name": "python3"
  },
  "language_info": {
   "codemirror_mode": {
    "name": "ipython",
    "version": 2
   },
   "file_extension": ".py",
   "mimetype": "text/x-python",
   "name": "python",
   "nbconvert_exporter": "python",
   "pygments_lexer": "ipython2",
   "version": "2.7.6"
  }
 },
 "nbformat": 4,
 "nbformat_minor": 0
}
